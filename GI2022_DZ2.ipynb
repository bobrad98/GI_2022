{
 "cells": [
  {
   "cell_type": "markdown",
   "id": "49eebb46",
   "metadata": {},
   "source": [
    "# 1 Setup and basics\n",
    "\n",
    "Importing pysam, creating .bai index file and generating an *AligmentFile* object"
   ]
  },
  {
   "cell_type": "code",
   "execution_count": 1,
   "id": "79f58a04",
   "metadata": {},
   "outputs": [],
   "source": [
    "import pysam\n",
    "\n",
    "pysam.sort('-o', 'sorted.bam', 'merged-tumor.bam')\n",
    "pysam.index('sorted.bam')\n",
    "samfile = pysam.AlignmentFile('sorted.bam', 'rb')"
   ]
  },
  {
   "cell_type": "markdown",
   "id": "fad126c9",
   "metadata": {},
   "source": [
    "Analysis of first read (creating *AligmentSegment* object)"
   ]
  },
  {
   "cell_type": "code",
   "execution_count": 2,
   "id": "2c2f41a7",
   "metadata": {},
   "outputs": [
    {
     "name": "stdout",
     "output_type": "stream",
     "text": [
      "C0HVYACXX120402:7:1207:5722:57044\t1187\t#20\t9483249\t27\t76M\t#20\t9483382\t209\tTTTTCAAACAGTATCTATGCCTGCCAAATGTGAACATATAAAAAAAAACCAGAATGTGCCATTCTGATTTAAACTG\tarray('B', [28, 28, 27, 29, 31, 30, 31, 31, 29, 31, 35, 30, 29, 31, 34, 30, 29, 23, 41, 32, 20, 30, 29, 34, 34, 29, 30, 31, 30, 30, 30, 33, 33, 26, 39, 12, 25, 19, 32, 30, 35, 28, 35, 33, 23, 33, 35, 36, 30, 38, 33, 41, 34, 35, 31, 33, 23, 30, 30, 36, 27, 32, 29, 34, 35, 41, 33, 31, 33, 29, 32, 32, 31, 31, 31, 34])\t[('XA', 'GL000217.1,-110754,76M,1;'), ('BD', 'NNNNNNNNNNNNNNNNNNNNNNNNNNNNNNNNNNNNNNNNNNNNNNNNNNNNNNNNNNNNNNNNNNNNNNNNNNNN'), ('MD', '76'), ('RG', '1'), ('BI', 'NNNNNNNNNNNNNNNNNNNNNNNNNNNNNNNNNNNNNNNNNNNNNNNNNNNNNNNNNNNNNNNNNNNNNNNNNNNN'), ('NM', 0), ('MQ', 27), ('AS', 76), ('XS', 71)]\n"
     ]
    }
   ],
   "source": [
    "for read1 in samfile.fetch():\n",
    "    print(read1) #first read\n",
    "    break"
   ]
  },
  {
   "cell_type": "markdown",
   "id": "f9c958d8",
   "metadata": {},
   "source": [
    "Inspecting *AligmentSegment* object fields"
   ]
  },
  {
   "cell_type": "code",
   "execution_count": 3,
   "id": "7046c195",
   "metadata": {},
   "outputs": [
    {
     "data": {
      "text/plain": [
       "9483324"
      ]
     },
     "execution_count": 3,
     "metadata": {},
     "output_type": "execute_result"
    }
   ],
   "source": [
    "read1.reference_end"
   ]
  },
  {
   "cell_type": "code",
   "execution_count": 4,
   "id": "8d978e0e",
   "metadata": {},
   "outputs": [
    {
     "data": {
      "text/plain": [
       "76"
      ]
     },
     "execution_count": 4,
     "metadata": {},
     "output_type": "execute_result"
    }
   ],
   "source": [
    "read1.reference_length"
   ]
  },
  {
   "cell_type": "code",
   "execution_count": 5,
   "id": "8d04c1e2",
   "metadata": {},
   "outputs": [
    {
     "data": {
      "text/plain": [
       "[(0, 9483248),\n",
       " (1, 9483249),\n",
       " (2, 9483250),\n",
       " (3, 9483251),\n",
       " (4, 9483252),\n",
       " (5, 9483253),\n",
       " (6, 9483254),\n",
       " (7, 9483255),\n",
       " (8, 9483256),\n",
       " (9, 9483257),\n",
       " (10, 9483258),\n",
       " (11, 9483259),\n",
       " (12, 9483260),\n",
       " (13, 9483261),\n",
       " (14, 9483262),\n",
       " (15, 9483263),\n",
       " (16, 9483264),\n",
       " (17, 9483265),\n",
       " (18, 9483266),\n",
       " (19, 9483267),\n",
       " (20, 9483268),\n",
       " (21, 9483269),\n",
       " (22, 9483270),\n",
       " (23, 9483271),\n",
       " (24, 9483272),\n",
       " (25, 9483273),\n",
       " (26, 9483274),\n",
       " (27, 9483275),\n",
       " (28, 9483276),\n",
       " (29, 9483277),\n",
       " (30, 9483278),\n",
       " (31, 9483279),\n",
       " (32, 9483280),\n",
       " (33, 9483281),\n",
       " (34, 9483282),\n",
       " (35, 9483283),\n",
       " (36, 9483284),\n",
       " (37, 9483285),\n",
       " (38, 9483286),\n",
       " (39, 9483287),\n",
       " (40, 9483288),\n",
       " (41, 9483289),\n",
       " (42, 9483290),\n",
       " (43, 9483291),\n",
       " (44, 9483292),\n",
       " (45, 9483293),\n",
       " (46, 9483294),\n",
       " (47, 9483295),\n",
       " (48, 9483296),\n",
       " (49, 9483297),\n",
       " (50, 9483298),\n",
       " (51, 9483299),\n",
       " (52, 9483300),\n",
       " (53, 9483301),\n",
       " (54, 9483302),\n",
       " (55, 9483303),\n",
       " (56, 9483304),\n",
       " (57, 9483305),\n",
       " (58, 9483306),\n",
       " (59, 9483307),\n",
       " (60, 9483308),\n",
       " (61, 9483309),\n",
       " (62, 9483310),\n",
       " (63, 9483311),\n",
       " (64, 9483312),\n",
       " (65, 9483313),\n",
       " (66, 9483314),\n",
       " (67, 9483315),\n",
       " (68, 9483316),\n",
       " (69, 9483317),\n",
       " (70, 9483318),\n",
       " (71, 9483319),\n",
       " (72, 9483320),\n",
       " (73, 9483321),\n",
       " (74, 9483322),\n",
       " (75, 9483323)]"
      ]
     },
     "execution_count": 5,
     "metadata": {},
     "output_type": "execute_result"
    }
   ],
   "source": [
    "read1.get_aligned_pairs()"
   ]
  },
  {
   "cell_type": "code",
   "execution_count": 6,
   "id": "f169d858",
   "metadata": {},
   "outputs": [
    {
     "data": {
      "text/plain": [
       "5259"
      ]
     },
     "execution_count": 6,
     "metadata": {},
     "output_type": "execute_result"
    }
   ],
   "source": [
    "read1.bin"
   ]
  },
  {
   "cell_type": "code",
   "execution_count": 7,
   "id": "0159269a",
   "metadata": {},
   "outputs": [
    {
     "data": {
      "text/plain": [
       "'76M'"
      ]
     },
     "execution_count": 7,
     "metadata": {},
     "output_type": "execute_result"
    }
   ],
   "source": [
    "read1.cigarstring"
   ]
  },
  {
   "cell_type": "code",
   "execution_count": 8,
   "id": "400cd829",
   "metadata": {},
   "outputs": [
    {
     "data": {
      "text/plain": [
       "[(0, 76)]"
      ]
     },
     "execution_count": 8,
     "metadata": {},
     "output_type": "execute_result"
    }
   ],
   "source": [
    "read1.cigartuples"
   ]
  },
  {
   "cell_type": "code",
   "execution_count": 9,
   "id": "85cdb2a1",
   "metadata": {},
   "outputs": [
    {
     "data": {
      "text/plain": [
       "1187"
      ]
     },
     "execution_count": 9,
     "metadata": {},
     "output_type": "execute_result"
    }
   ],
   "source": [
    "read1.flag"
   ]
  },
  {
   "cell_type": "code",
   "execution_count": 10,
   "id": "2685ac44",
   "metadata": {},
   "outputs": [
    {
     "data": {
      "text/plain": [
       "(array('I', [76, 0, 0, 0, 0, 0, 0, 0, 0, 0, 0]),\n",
       " array('I', [1, 0, 0, 0, 0, 0, 0, 0, 0, 0, 0]))"
      ]
     },
     "execution_count": 10,
     "metadata": {},
     "output_type": "execute_result"
    }
   ],
   "source": [
    "read1.get_cigar_stats()"
   ]
  },
  {
   "cell_type": "code",
   "execution_count": 11,
   "id": "333a0c66",
   "metadata": {},
   "outputs": [
    {
     "data": {
      "text/plain": [
       "[(9483248, 9483324)]"
      ]
     },
     "execution_count": 11,
     "metadata": {},
     "output_type": "execute_result"
    }
   ],
   "source": [
    "read1.get_blocks()"
   ]
  },
  {
   "cell_type": "markdown",
   "id": "73fb6947",
   "metadata": {},
   "source": [
    "...\n"
   ]
  },
  {
   "cell_type": "markdown",
   "id": "c941a1a9",
   "metadata": {},
   "source": [
    "# 2 Exercices"
   ]
  },
  {
   "cell_type": "markdown",
   "id": "512628ab",
   "metadata": {},
   "source": [
    "## 2.1 How many unmapped reads are in the file?\n"
   ]
  },
  {
   "cell_type": "code",
   "execution_count": 12,
   "id": "5ee8f4d8",
   "metadata": {},
   "outputs": [],
   "source": [
    "total = 0\n",
    "unmapped = 0\n",
    "\n",
    "mapq = 0\n",
    "num_mapq0 = 0\n",
    "\n",
    "avg_mapq = 0\n",
    "avg_mapq_f = 0"
   ]
  },
  {
   "cell_type": "code",
   "execution_count": 13,
   "id": "a8afad86",
   "metadata": {},
   "outputs": [],
   "source": [
    "for read in samfile.fetch():\n",
    "    total += 1\n",
    "    if read.is_unmapped:\n",
    "        unmapped += 1\n",
    "    mapq += read.mapping_quality\n",
    "    if read.mapping_quality == 0:\n",
    "        num_mapq0 += 1\n",
    "        \n",
    "avg_mapq = mapq/total\n",
    "avg_mapq_f = mapq/(total - num_mapq0)"
   ]
  },
  {
   "cell_type": "code",
   "execution_count": 14,
   "id": "50351a50",
   "metadata": {},
   "outputs": [
    {
     "name": "stdout",
     "output_type": "stream",
     "text": [
      "total number of reads: 2921629 \n",
      "\n",
      "number of unnumbered reads: 17765 \n",
      "\n",
      "number of maps with mapq of 0: 126628 \n",
      "\n",
      "average mapq: 55.91379158681681 \n",
      "\n",
      "filtered mapq: 58.446975510921106 \n",
      "\n"
     ]
    }
   ],
   "source": [
    "print('total number of reads: ' + str(total) + ' \\n')\n",
    "print('number of unnumbered reads: ' + str(unmapped) + ' \\n')\n",
    "print('number of maps with mapq of 0: ' + str(num_mapq0) + ' \\n')\n",
    "print('average mapq: ' + str(avg_mapq) + ' \\n')\n",
    "print('filtered mapq: ' + str(avg_mapq_f) + ' \\n')"
   ]
  },
  {
   "cell_type": "code",
   "execution_count": null,
   "id": "89b8b3e0",
   "metadata": {},
   "outputs": [],
   "source": []
  }
 ],
 "metadata": {
  "kernelspec": {
   "display_name": "Python 3",
   "language": "python",
   "name": "python3"
  },
  "language_info": {
   "codemirror_mode": {
    "name": "ipython",
    "version": 3
   },
   "file_extension": ".py",
   "mimetype": "text/x-python",
   "name": "python",
   "nbconvert_exporter": "python",
   "pygments_lexer": "ipython3",
   "version": "3.6.9"
  }
 },
 "nbformat": 4,
 "nbformat_minor": 5
}
